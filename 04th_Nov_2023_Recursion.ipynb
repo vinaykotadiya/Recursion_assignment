{
 "cells": [
  {
   "cell_type": "markdown",
   "id": "0f83aedd-d5a4-4503-a5b6-9847444b6362",
   "metadata": {},
   "source": [
    "### Q. 1 Can you explain the logic and working of the Tower of Hanoi algorithm by writing a Java program? How does the recursion work, and how are the movements of disks between rods accomplished?"
   ]
  },
  {
   "cell_type": "code",
   "execution_count": 3,
   "id": "7f2ffa9b-2d3d-479c-8a86-1a6b982de7e1",
   "metadata": {},
   "outputs": [
    {
     "name": "stdout",
     "output_type": "stream",
     "text": [
      "Movie disk 1 from A to B\n",
      "Movie disk 2 from A to C\n",
      "Movie disk 1 from B to C\n",
      "Movie disk 3 from A to B\n",
      "Movie disk 1 from C to A\n",
      "Movie disk 2 from C to B\n",
      "Movie disk 1 from A to B\n"
     ]
    }
   ],
   "source": [
    "# This function solves the tower of Hanoi problem for'n' disks\n",
    "\n",
    "def tower_of_hanoi(n, source, target, auxiliary):\n",
    "    #if there's only one disk, move it form the source to the target rod.\n",
    "    if n == 1:\n",
    "        print(f\"Movie disk 1 from {source} to {target}\")\n",
    "        return \n",
    "    # Movie 'n-1' disks from the source rod to the auxiliary rod using the target rod using the target as an intermediary\n",
    "    tower_of_hanoi(n-1,source,auxiliary,target)\n",
    "    \n",
    "    # Move the remaining 'n-th' disk from the source rod to the target rod directly.\n",
    "    print(f\"Movie disk {n} from {source} to {target}\")\n",
    "    \n",
    "    # Move the 'n-1' disks from the auxiliary rod to the target rod using the source rod as an intermediary.\n",
    "    tower_of_hanoi(n-1,auxiliary,target,source)\n",
    "    \n",
    "#Driver code\n",
    "num_disks = 3\n",
    "tower_of_hanoi(num_disks,\"A\",\"B\",\"C\")"
   ]
  },
  {
   "cell_type": "markdown",
   "id": "aaa32596-09e6-4b6d-9e97-5d2c5942ec29",
   "metadata": {},
   "source": [
    "### Q. 2 Given two strings word1 and word2, return the minimum number of operations required to convert word1 to word2."
   ]
  },
  {
   "cell_type": "code",
   "execution_count": 10,
   "id": "1612b65f-27e5-4a5f-b8b7-aaab4ec81de6",
   "metadata": {},
   "outputs": [
    {
     "name": "stdout",
     "output_type": "stream",
     "text": [
      "The minimum number of operations required: 3\n"
     ]
    }
   ],
   "source": [
    "def minDistance(word1,word2):\n",
    "    m,n = len(word1),len(word2)\n",
    "    # Create  a matrix to store the minimum operations required\n",
    "    dp = [[0] * (n+1) for _ in range(m+1)]\n",
    "    \n",
    "    # Initialize the first row and column\n",
    "    for i in range(m+1):\n",
    "        dp[i][0] = i\n",
    "        \n",
    "    for j in range(n+1):\n",
    "        dp[0][j] = j\n",
    "        \n",
    "    # Fill in the matrix using dynamic programming\n",
    "    for i in range(1, m+1):\n",
    "        for j in range(1, n+1):\n",
    "            if word1[i - 1] == word2[j - 1]:\n",
    "                dp[i][j] = dp[i-1][j-1]\n",
    "            else:\n",
    "                dp[i][j] = 1 + min(dp[i - 1][j],dp[i][j-1],dp[i-1][j-1])\n",
    "    return dp[m][n]\n",
    "\n",
    "#Driver code\n",
    "word1 = 'horse'\n",
    "word2 = 'ros'\n",
    "result = minDistance(word1,word2)\n",
    "print(f\"The minimum number of operations required: {result}\")"
   ]
  },
  {
   "cell_type": "markdown",
   "id": "c32a61f6-737f-4bfa-8855-7f92c1313d1a",
   "metadata": {},
   "source": [
    "### Q. 3 Print the max value of the array [ 13, 1, -3, 22, 5]."
   ]
  },
  {
   "cell_type": "code",
   "execution_count": 16,
   "id": "4706196b-e7cd-409b-a91e-3361f8b7fc04",
   "metadata": {},
   "outputs": [
    {
     "name": "stdout",
     "output_type": "stream",
     "text": [
      "The maximum value in the array is: 22\n"
     ]
    }
   ],
   "source": [
    "# Make a function for print max value of array\n",
    "def maxArray(Array):\n",
    "    # default max value is 1st element\n",
    "    max_value = Array[0]\n",
    "    # use for loop for compare a elements\n",
    "    for i in Array:\n",
    "        if  i > max_value:\n",
    "            max_value = i\n",
    "    return max_value\n",
    "    \n",
    "# Driver code \n",
    "Array = [ 13, 1, -3, 22, 5]\n",
    "result = maxArray(Array)\n",
    "print(f\"The maximum value in the array is: {result}\")"
   ]
  },
  {
   "cell_type": "markdown",
   "id": "9548757e-26c7-4624-b344-c6315e993bfa",
   "metadata": {},
   "source": [
    "### Q.4 Find the sum of the values of the array [92, 23, 15, -20, 10]."
   ]
  },
  {
   "cell_type": "code",
   "execution_count": 19,
   "id": "481a9674-8b71-4fd8-9d5c-e5b822e2660d",
   "metadata": {},
   "outputs": [
    {
     "name": "stdout",
     "output_type": "stream",
     "text": [
      "The sum of the given array is: 120 \n"
     ]
    }
   ],
   "source": [
    "def sumArray(Array):\n",
    "    #  make a storage for store sum of Array\n",
    "    sum_Array = 0\n",
    "    # use for loop for sum of all Array's element\n",
    "    for i in Array:\n",
    "        sum_Array += i\n",
    "    return sum_Array\n",
    "\n",
    "# Driver code\n",
    "Array = [92, 23, 15, -20, 10]\n",
    "result = sumArray(Array)\n",
    "print(f\"The sum of the given array is: {result} \")"
   ]
  },
  {
   "cell_type": "markdown",
   "id": "cde4e203-a68d-4d44-9a49-92a5eb58b730",
   "metadata": {},
   "source": [
    "### Q.5 Given a number n. Print if it is an armstrong number or not.An armstrong number is a number if the sum of every digit in that number raised to the power of total digits in that number is equal to the number."
   ]
  },
  {
   "cell_type": "code",
   "execution_count": null,
   "id": "63af51e7-e879-49f9-9f4a-18426a77e8d1",
   "metadata": {},
   "outputs": [],
   "source": []
  }
 ],
 "metadata": {
  "kernelspec": {
   "display_name": "Python 3 (ipykernel)",
   "language": "python",
   "name": "python3"
  },
  "language_info": {
   "codemirror_mode": {
    "name": "ipython",
    "version": 3
   },
   "file_extension": ".py",
   "mimetype": "text/x-python",
   "name": "python",
   "nbconvert_exporter": "python",
   "pygments_lexer": "ipython3",
   "version": "3.10.8"
  }
 },
 "nbformat": 4,
 "nbformat_minor": 5
}
